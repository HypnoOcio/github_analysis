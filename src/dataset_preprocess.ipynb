{
  "nbformat": 4,
  "nbformat_minor": 0,
  "metadata": {
    "colab": {
      "name": "dataset_preprocess.ipynb",
      "provenance": [],
      "collapsed_sections": []
    },
    "kernelspec": {
      "name": "python3",
      "display_name": "Python 3"
    },
    "language_info": {
      "name": "python"
    }
  },
  "cells": [
    {
      "cell_type": "markdown",
      "source": [
        "This notebook shows a final preprocessing steps to dataset."
      ],
      "metadata": {
        "id": "z31inDdYSn_S"
      }
    },
    {
      "cell_type": "code",
      "execution_count": 1,
      "metadata": {
        "id": "GaIiOe6w_O8w"
      },
      "outputs": [],
      "source": [
        "import pandas as pd\n",
        "import numpy as np\n",
        "import os\n",
        "from matplotlib import pyplot\n",
        "from tqdm import tqdm"
      ]
    },
    {
      "cell_type": "code",
      "source": [
        "from google.colab import drive\n",
        "drive.mount('/content/drive',  force_remount = True)"
      ],
      "metadata": {
        "colab": {
          "base_uri": "https://localhost:8080/"
        },
        "id": "3Jlv3yaPMUr2",
        "outputId": "9a2fa946-8ec3-4c34-f47c-672748e83453"
      },
      "execution_count": 3,
      "outputs": [
        {
          "output_type": "stream",
          "name": "stdout",
          "text": [
            "Mounted at /content/drive\n"
          ]
        }
      ]
    },
    {
      "cell_type": "code",
      "source": [
        "path_to_file = \"./data/commit_size_over_10000.csv\"\n",
        "df = pd.read_csv(path_to_file)"
      ],
      "metadata": {
        "id": "6JMV8MphMVpz"
      },
      "execution_count": 4,
      "outputs": []
    },
    {
      "cell_type": "code",
      "source": [
        "actual_descriptor = 'commit'\n",
        "specific_id = actual_descriptor+'_id'\n",
        "specific_count = actual_descriptor + '_count'"
      ],
      "metadata": {
        "id": "Cy1PyMJfMzSR"
      },
      "execution_count": 5,
      "outputs": []
    },
    {
      "cell_type": "code",
      "source": [
        "if \"repo_id\" in df.columns:\n",
        "  df.rename({\"repo_id\":\"project_id\"},inplace=True)"
      ],
      "metadata": {
        "id": "yi0MsLRAM4qv"
      },
      "execution_count": 6,
      "outputs": []
    },
    {
      "cell_type": "code",
      "source": [
        "df.head()"
      ],
      "metadata": {
        "colab": {
          "base_uri": "https://localhost:8080/",
          "height": 206
        },
        "id": "xJicKo_aM7kx",
        "outputId": "620ad5ad-3e1c-45b0-c544-7a2a1cf228d7"
      },
      "execution_count": 7,
      "outputs": [
        {
          "output_type": "execute_result",
          "data": {
            "text/plain": [
              "   commit_id  author_id  commiter_id  project_id               created_at  \\\n",
              "0  977642044     342219       342219     9402294  2018-04-15 09:08:11 UTC   \n",
              "1  977648333    3284059      3284059     8163431  2018-04-15 00:36:16 UTC   \n",
              "2  977650139   11199553     11199553    31257538  2018-04-15 08:56:52 UTC   \n",
              "3  977656802    1424627      1424627     4594981  2018-04-15 09:41:47 UTC   \n",
              "4  977665565      66505        66505       20052  2018-04-15 09:58:21 UTC   \n",
              "\n",
              "   repo_size  \n",
              "0     171738  \n",
              "1     281170  \n",
              "2      33872  \n",
              "3      90863  \n",
              "4    1482098  "
            ],
            "text/html": [
              "\n",
              "  <div id=\"df-ec861e7d-d8d8-410e-9c77-401e33dda5fa\">\n",
              "    <div class=\"colab-df-container\">\n",
              "      <div>\n",
              "<style scoped>\n",
              "    .dataframe tbody tr th:only-of-type {\n",
              "        vertical-align: middle;\n",
              "    }\n",
              "\n",
              "    .dataframe tbody tr th {\n",
              "        vertical-align: top;\n",
              "    }\n",
              "\n",
              "    .dataframe thead th {\n",
              "        text-align: right;\n",
              "    }\n",
              "</style>\n",
              "<table border=\"1\" class=\"dataframe\">\n",
              "  <thead>\n",
              "    <tr style=\"text-align: right;\">\n",
              "      <th></th>\n",
              "      <th>commit_id</th>\n",
              "      <th>author_id</th>\n",
              "      <th>commiter_id</th>\n",
              "      <th>project_id</th>\n",
              "      <th>created_at</th>\n",
              "      <th>repo_size</th>\n",
              "    </tr>\n",
              "  </thead>\n",
              "  <tbody>\n",
              "    <tr>\n",
              "      <th>0</th>\n",
              "      <td>977642044</td>\n",
              "      <td>342219</td>\n",
              "      <td>342219</td>\n",
              "      <td>9402294</td>\n",
              "      <td>2018-04-15 09:08:11 UTC</td>\n",
              "      <td>171738</td>\n",
              "    </tr>\n",
              "    <tr>\n",
              "      <th>1</th>\n",
              "      <td>977648333</td>\n",
              "      <td>3284059</td>\n",
              "      <td>3284059</td>\n",
              "      <td>8163431</td>\n",
              "      <td>2018-04-15 00:36:16 UTC</td>\n",
              "      <td>281170</td>\n",
              "    </tr>\n",
              "    <tr>\n",
              "      <th>2</th>\n",
              "      <td>977650139</td>\n",
              "      <td>11199553</td>\n",
              "      <td>11199553</td>\n",
              "      <td>31257538</td>\n",
              "      <td>2018-04-15 08:56:52 UTC</td>\n",
              "      <td>33872</td>\n",
              "    </tr>\n",
              "    <tr>\n",
              "      <th>3</th>\n",
              "      <td>977656802</td>\n",
              "      <td>1424627</td>\n",
              "      <td>1424627</td>\n",
              "      <td>4594981</td>\n",
              "      <td>2018-04-15 09:41:47 UTC</td>\n",
              "      <td>90863</td>\n",
              "    </tr>\n",
              "    <tr>\n",
              "      <th>4</th>\n",
              "      <td>977665565</td>\n",
              "      <td>66505</td>\n",
              "      <td>66505</td>\n",
              "      <td>20052</td>\n",
              "      <td>2018-04-15 09:58:21 UTC</td>\n",
              "      <td>1482098</td>\n",
              "    </tr>\n",
              "  </tbody>\n",
              "</table>\n",
              "</div>\n",
              "      <button class=\"colab-df-convert\" onclick=\"convertToInteractive('df-ec861e7d-d8d8-410e-9c77-401e33dda5fa')\"\n",
              "              title=\"Convert this dataframe to an interactive table.\"\n",
              "              style=\"display:none;\">\n",
              "        \n",
              "  <svg xmlns=\"http://www.w3.org/2000/svg\" height=\"24px\"viewBox=\"0 0 24 24\"\n",
              "       width=\"24px\">\n",
              "    <path d=\"M0 0h24v24H0V0z\" fill=\"none\"/>\n",
              "    <path d=\"M18.56 5.44l.94 2.06.94-2.06 2.06-.94-2.06-.94-.94-2.06-.94 2.06-2.06.94zm-11 1L8.5 8.5l.94-2.06 2.06-.94-2.06-.94L8.5 2.5l-.94 2.06-2.06.94zm10 10l.94 2.06.94-2.06 2.06-.94-2.06-.94-.94-2.06-.94 2.06-2.06.94z\"/><path d=\"M17.41 7.96l-1.37-1.37c-.4-.4-.92-.59-1.43-.59-.52 0-1.04.2-1.43.59L10.3 9.45l-7.72 7.72c-.78.78-.78 2.05 0 2.83L4 21.41c.39.39.9.59 1.41.59.51 0 1.02-.2 1.41-.59l7.78-7.78 2.81-2.81c.8-.78.8-2.07 0-2.86zM5.41 20L4 18.59l7.72-7.72 1.47 1.35L5.41 20z\"/>\n",
              "  </svg>\n",
              "      </button>\n",
              "      \n",
              "  <style>\n",
              "    .colab-df-container {\n",
              "      display:flex;\n",
              "      flex-wrap:wrap;\n",
              "      gap: 12px;\n",
              "    }\n",
              "\n",
              "    .colab-df-convert {\n",
              "      background-color: #E8F0FE;\n",
              "      border: none;\n",
              "      border-radius: 50%;\n",
              "      cursor: pointer;\n",
              "      display: none;\n",
              "      fill: #1967D2;\n",
              "      height: 32px;\n",
              "      padding: 0 0 0 0;\n",
              "      width: 32px;\n",
              "    }\n",
              "\n",
              "    .colab-df-convert:hover {\n",
              "      background-color: #E2EBFA;\n",
              "      box-shadow: 0px 1px 2px rgba(60, 64, 67, 0.3), 0px 1px 3px 1px rgba(60, 64, 67, 0.15);\n",
              "      fill: #174EA6;\n",
              "    }\n",
              "\n",
              "    [theme=dark] .colab-df-convert {\n",
              "      background-color: #3B4455;\n",
              "      fill: #D2E3FC;\n",
              "    }\n",
              "\n",
              "    [theme=dark] .colab-df-convert:hover {\n",
              "      background-color: #434B5C;\n",
              "      box-shadow: 0px 1px 3px 1px rgba(0, 0, 0, 0.15);\n",
              "      filter: drop-shadow(0px 1px 2px rgba(0, 0, 0, 0.3));\n",
              "      fill: #FFFFFF;\n",
              "    }\n",
              "  </style>\n",
              "\n",
              "      <script>\n",
              "        const buttonEl =\n",
              "          document.querySelector('#df-ec861e7d-d8d8-410e-9c77-401e33dda5fa button.colab-df-convert');\n",
              "        buttonEl.style.display =\n",
              "          google.colab.kernel.accessAllowed ? 'block' : 'none';\n",
              "\n",
              "        async function convertToInteractive(key) {\n",
              "          const element = document.querySelector('#df-ec861e7d-d8d8-410e-9c77-401e33dda5fa');\n",
              "          const dataTable =\n",
              "            await google.colab.kernel.invokeFunction('convertToInteractive',\n",
              "                                                     [key], {});\n",
              "          if (!dataTable) return;\n",
              "\n",
              "          const docLinkHtml = 'Like what you see? Visit the ' +\n",
              "            '<a target=\"_blank\" href=https://colab.research.google.com/notebooks/data_table.ipynb>data table notebook</a>'\n",
              "            + ' to learn more about interactive tables.';\n",
              "          element.innerHTML = '';\n",
              "          dataTable['output_type'] = 'display_data';\n",
              "          await google.colab.output.renderOutput(dataTable, element);\n",
              "          const docLink = document.createElement('div');\n",
              "          docLink.innerHTML = docLinkHtml;\n",
              "          element.appendChild(docLink);\n",
              "        }\n",
              "      </script>\n",
              "    </div>\n",
              "  </div>\n",
              "  "
            ]
          },
          "metadata": {},
          "execution_count": 7
        }
      ]
    },
    {
      "cell_type": "code",
      "source": [
        "# remove UTC and format date\n",
        "df['created_at'] = df['created_at'].astype('str')\n",
        "df['created_at'] = df.created_at.apply(lambda x: x.replace('UTC',''))\n",
        "df.created_at = pd.to_datetime( df.created_at.to_list(), yearfirst = True, format=\"%Y-%m-%d %H:%M:%S\" )"
      ],
      "metadata": {
        "id": "E58S85HKM9-O"
      },
      "execution_count": 8,
      "outputs": []
    },
    {
      "cell_type": "code",
      "source": [
        "# filter repos with short life\n",
        "long_live_repos = []\n",
        "for repo_id in tqdm(df.project_id.unique()):\n",
        "  pr_id = repo_id\n",
        "  df_project = df.loc[df.project_id == pr_id].copy()\n",
        "  df_project.sort_values(by='created_at', inplace= True)\n",
        "  if (df_project.iloc[-1].created_at - df_project.iloc[0].created_at).days >= 3 * 365:\n",
        "     long_live_repos.append(df_project)\n",
        "\n",
        "df = pd.concat(long_live_repos)"
      ],
      "metadata": {
        "colab": {
          "base_uri": "https://localhost:8080/"
        },
        "id": "MsFiaxoXNAYr",
        "outputId": "03d288ec-4402-4a56-ef29-40502b0bb483"
      },
      "execution_count": 9,
      "outputs": [
        {
          "output_type": "stream",
          "name": "stderr",
          "text": [
            "100%|██████████| 6318/6318 [02:37<00:00, 40.23it/s]\n"
          ]
        }
      ]
    },
    {
      "cell_type": "code",
      "source": [
        "# count number of commits per each repository\n",
        "out = df.groupby(['project_id']).count().reset_index().rename(columns={specific_id:specific_count}) \n",
        "\n",
        "# choose repos of reasonable size\n",
        "threshold_for_commits = 300\n",
        "r = out[['project_id',specific_count]][out[specific_count] > threshold_for_commits]\n",
        "\n",
        "# join with main table\n",
        "df = df.merge(r, how=\"inner\", on='project_id', suffixes=('_left', '_right') )"
      ],
      "metadata": {
        "id": "488rGIiLNAs8"
      },
      "execution_count": 10,
      "outputs": []
    },
    {
      "cell_type": "code",
      "source": [
        "df.head()"
      ],
      "metadata": {
        "colab": {
          "base_uri": "https://localhost:8080/",
          "height": 206
        },
        "id": "WfbcsyJjNAvk",
        "outputId": "591a30d5-0909-4979-d4aa-a27a6e171218"
      },
      "execution_count": 11,
      "outputs": [
        {
          "output_type": "execute_result",
          "data": {
            "text/plain": [
              "   commit_id  author_id  commiter_id  project_id          created_at  \\\n",
              "0  104994502     342219       342219     9402294 2014-04-17 19:39:23   \n",
              "1  385931077     342219       342219     9402294 2014-04-17 21:39:07   \n",
              "2  104994494     342219       342219     9402294 2014-04-18 13:34:59   \n",
              "3  104994509     342219       342219     9402294 2014-04-18 14:04:21   \n",
              "4  104994515     342219       342219     9402294 2014-04-18 14:46:57   \n",
              "\n",
              "   repo_size  commit_count  \n",
              "0     171738          3930  \n",
              "1     171738          3930  \n",
              "2     171738          3930  \n",
              "3     171738          3930  \n",
              "4     171738          3930  "
            ],
            "text/html": [
              "\n",
              "  <div id=\"df-912fb0e5-6254-4184-8e44-bf2e692273e4\">\n",
              "    <div class=\"colab-df-container\">\n",
              "      <div>\n",
              "<style scoped>\n",
              "    .dataframe tbody tr th:only-of-type {\n",
              "        vertical-align: middle;\n",
              "    }\n",
              "\n",
              "    .dataframe tbody tr th {\n",
              "        vertical-align: top;\n",
              "    }\n",
              "\n",
              "    .dataframe thead th {\n",
              "        text-align: right;\n",
              "    }\n",
              "</style>\n",
              "<table border=\"1\" class=\"dataframe\">\n",
              "  <thead>\n",
              "    <tr style=\"text-align: right;\">\n",
              "      <th></th>\n",
              "      <th>commit_id</th>\n",
              "      <th>author_id</th>\n",
              "      <th>commiter_id</th>\n",
              "      <th>project_id</th>\n",
              "      <th>created_at</th>\n",
              "      <th>repo_size</th>\n",
              "      <th>commit_count</th>\n",
              "    </tr>\n",
              "  </thead>\n",
              "  <tbody>\n",
              "    <tr>\n",
              "      <th>0</th>\n",
              "      <td>104994502</td>\n",
              "      <td>342219</td>\n",
              "      <td>342219</td>\n",
              "      <td>9402294</td>\n",
              "      <td>2014-04-17 19:39:23</td>\n",
              "      <td>171738</td>\n",
              "      <td>3930</td>\n",
              "    </tr>\n",
              "    <tr>\n",
              "      <th>1</th>\n",
              "      <td>385931077</td>\n",
              "      <td>342219</td>\n",
              "      <td>342219</td>\n",
              "      <td>9402294</td>\n",
              "      <td>2014-04-17 21:39:07</td>\n",
              "      <td>171738</td>\n",
              "      <td>3930</td>\n",
              "    </tr>\n",
              "    <tr>\n",
              "      <th>2</th>\n",
              "      <td>104994494</td>\n",
              "      <td>342219</td>\n",
              "      <td>342219</td>\n",
              "      <td>9402294</td>\n",
              "      <td>2014-04-18 13:34:59</td>\n",
              "      <td>171738</td>\n",
              "      <td>3930</td>\n",
              "    </tr>\n",
              "    <tr>\n",
              "      <th>3</th>\n",
              "      <td>104994509</td>\n",
              "      <td>342219</td>\n",
              "      <td>342219</td>\n",
              "      <td>9402294</td>\n",
              "      <td>2014-04-18 14:04:21</td>\n",
              "      <td>171738</td>\n",
              "      <td>3930</td>\n",
              "    </tr>\n",
              "    <tr>\n",
              "      <th>4</th>\n",
              "      <td>104994515</td>\n",
              "      <td>342219</td>\n",
              "      <td>342219</td>\n",
              "      <td>9402294</td>\n",
              "      <td>2014-04-18 14:46:57</td>\n",
              "      <td>171738</td>\n",
              "      <td>3930</td>\n",
              "    </tr>\n",
              "  </tbody>\n",
              "</table>\n",
              "</div>\n",
              "      <button class=\"colab-df-convert\" onclick=\"convertToInteractive('df-912fb0e5-6254-4184-8e44-bf2e692273e4')\"\n",
              "              title=\"Convert this dataframe to an interactive table.\"\n",
              "              style=\"display:none;\">\n",
              "        \n",
              "  <svg xmlns=\"http://www.w3.org/2000/svg\" height=\"24px\"viewBox=\"0 0 24 24\"\n",
              "       width=\"24px\">\n",
              "    <path d=\"M0 0h24v24H0V0z\" fill=\"none\"/>\n",
              "    <path d=\"M18.56 5.44l.94 2.06.94-2.06 2.06-.94-2.06-.94-.94-2.06-.94 2.06-2.06.94zm-11 1L8.5 8.5l.94-2.06 2.06-.94-2.06-.94L8.5 2.5l-.94 2.06-2.06.94zm10 10l.94 2.06.94-2.06 2.06-.94-2.06-.94-.94-2.06-.94 2.06-2.06.94z\"/><path d=\"M17.41 7.96l-1.37-1.37c-.4-.4-.92-.59-1.43-.59-.52 0-1.04.2-1.43.59L10.3 9.45l-7.72 7.72c-.78.78-.78 2.05 0 2.83L4 21.41c.39.39.9.59 1.41.59.51 0 1.02-.2 1.41-.59l7.78-7.78 2.81-2.81c.8-.78.8-2.07 0-2.86zM5.41 20L4 18.59l7.72-7.72 1.47 1.35L5.41 20z\"/>\n",
              "  </svg>\n",
              "      </button>\n",
              "      \n",
              "  <style>\n",
              "    .colab-df-container {\n",
              "      display:flex;\n",
              "      flex-wrap:wrap;\n",
              "      gap: 12px;\n",
              "    }\n",
              "\n",
              "    .colab-df-convert {\n",
              "      background-color: #E8F0FE;\n",
              "      border: none;\n",
              "      border-radius: 50%;\n",
              "      cursor: pointer;\n",
              "      display: none;\n",
              "      fill: #1967D2;\n",
              "      height: 32px;\n",
              "      padding: 0 0 0 0;\n",
              "      width: 32px;\n",
              "    }\n",
              "\n",
              "    .colab-df-convert:hover {\n",
              "      background-color: #E2EBFA;\n",
              "      box-shadow: 0px 1px 2px rgba(60, 64, 67, 0.3), 0px 1px 3px 1px rgba(60, 64, 67, 0.15);\n",
              "      fill: #174EA6;\n",
              "    }\n",
              "\n",
              "    [theme=dark] .colab-df-convert {\n",
              "      background-color: #3B4455;\n",
              "      fill: #D2E3FC;\n",
              "    }\n",
              "\n",
              "    [theme=dark] .colab-df-convert:hover {\n",
              "      background-color: #434B5C;\n",
              "      box-shadow: 0px 1px 3px 1px rgba(0, 0, 0, 0.15);\n",
              "      filter: drop-shadow(0px 1px 2px rgba(0, 0, 0, 0.3));\n",
              "      fill: #FFFFFF;\n",
              "    }\n",
              "  </style>\n",
              "\n",
              "      <script>\n",
              "        const buttonEl =\n",
              "          document.querySelector('#df-912fb0e5-6254-4184-8e44-bf2e692273e4 button.colab-df-convert');\n",
              "        buttonEl.style.display =\n",
              "          google.colab.kernel.accessAllowed ? 'block' : 'none';\n",
              "\n",
              "        async function convertToInteractive(key) {\n",
              "          const element = document.querySelector('#df-912fb0e5-6254-4184-8e44-bf2e692273e4');\n",
              "          const dataTable =\n",
              "            await google.colab.kernel.invokeFunction('convertToInteractive',\n",
              "                                                     [key], {});\n",
              "          if (!dataTable) return;\n",
              "\n",
              "          const docLinkHtml = 'Like what you see? Visit the ' +\n",
              "            '<a target=\"_blank\" href=https://colab.research.google.com/notebooks/data_table.ipynb>data table notebook</a>'\n",
              "            + ' to learn more about interactive tables.';\n",
              "          element.innerHTML = '';\n",
              "          dataTable['output_type'] = 'display_data';\n",
              "          await google.colab.output.renderOutput(dataTable, element);\n",
              "          const docLink = document.createElement('div');\n",
              "          docLink.innerHTML = docLinkHtml;\n",
              "          element.appendChild(docLink);\n",
              "        }\n",
              "      </script>\n",
              "    </div>\n",
              "  </div>\n",
              "  "
            ]
          },
          "metadata": {},
          "execution_count": 11
        }
      ]
    },
    {
      "cell_type": "code",
      "source": [
        "print(f'remaining repositories which have more then {threshold_for_commits} commits : {len(df.project_id.unique())}')\n",
        "print(f'number of unique commits count in all repositoreis      : {len(df[specific_count].unique())}')"
      ],
      "metadata": {
        "colab": {
          "base_uri": "https://localhost:8080/"
        },
        "id": "lzbLv8SXNAzw",
        "outputId": "b8185098-b9b2-4865-8656-67792fa1b420"
      },
      "execution_count": 12,
      "outputs": [
        {
          "output_type": "stream",
          "name": "stdout",
          "text": [
            "remaining repositories which have more then 300 commits : 2127\n",
            "number of unique commits count in all repositoreis      : 1735\n"
          ]
        }
      ]
    },
    {
      "cell_type": "code",
      "source": [
        "# work with repos\n",
        "threshold1 = np.datetime64('2021-01-01')\n",
        "\n",
        "s2 = set(df.project_id[ df.created_at <  threshold1].unique())\n",
        "s3 = set(df.project_id[ df.created_at >  threshold1].unique())\n",
        "\n",
        "repos_with_time_threshold = s2.difference(s3)\n",
        "print(f'number of repositories which have commits before {threshold1} but not after it: {len(repos_with_time_threshold)}')"
      ],
      "metadata": {
        "colab": {
          "base_uri": "https://localhost:8080/"
        },
        "id": "aQwYUwcNNAxr",
        "outputId": "52d91792-b245-4b36-90a2-754c8a8b498c"
      },
      "execution_count": 13,
      "outputs": [
        {
          "output_type": "stream",
          "name": "stdout",
          "text": [
            "number of repositories which have commits before 2021-01-01 but not after it: 2127\n"
          ]
        }
      ]
    },
    {
      "cell_type": "code",
      "source": [
        "# show activity in specific repo\n",
        "def commits_in_time(df, pr_id):\n",
        "  df_project = df.loc[df.project_id == pr_id].copy()\n",
        "  # df_project = df_project.created_at\n",
        "  df_project.sort_values(by='created_at', inplace= True)\n",
        "  out = df_project.groupby(pd.Grouper(key='created_at', freq='M')).count()[specific_id]\n",
        "\n",
        "  y = out.to_list()\n",
        "  x = out.index.to_list()\n",
        "\n",
        "  pyplot.plot(x,y)\n",
        "\n",
        "commits_in_time(df,pr_id = 500724)"
      ],
      "metadata": {
        "colab": {
          "base_uri": "https://localhost:8080/",
          "height": 265
        },
        "id": "C4i7_fIHNA2X",
        "outputId": "e02cd29b-bfeb-4a78-fdde-12c823c9de16"
      },
      "execution_count": 14,
      "outputs": [
        {
          "output_type": "display_data",
          "data": {
            "text/plain": [
              "<Figure size 432x288 with 1 Axes>"
            ],
            "image/png": "[encoded data removed]"
          },
          "metadata": {
            "needs_background": "light"
          }
        }
      ]
    },
    {
      "cell_type": "code",
      "source": [
        "# find repos where activity ceased gradually and stayed that way (have longer tails)\n",
        "\n",
        "valid_repos = []\n",
        "segment_size_months = 12\n",
        "max_mean_percent_per_month = 5\n",
        "last_n_days_silence = 30 * segment_size_months\n",
        "\n",
        "for repo_id in tqdm(repos_with_time_threshold):\n",
        "\n",
        "  df_project = df.loc[df.project_id == repo_id].copy()\n",
        "  out = df_project.groupby(pd.Grouper(key='created_at', freq='M')).count()[specific_id].reset_index().rename(columns={specific_id:specific_count})\n",
        "  max_commit_cnt = out[specific_count].max()\n",
        "\n",
        "  last_date = out.iloc[-1].created_at\n",
        "  # get days from last commit\n",
        "  out['timedelta_last_commit'] = out['created_at'].apply(lambda x: (last_date - x).days)\n",
        "  # choose commits which are newer then 365 days before last commit \n",
        "  last_year_commits = out[out.timedelta_last_commit < last_n_days_silence]\n",
        "  # find if any month last year was commit count bigger then 5% of max commit counts ever\n",
        "  still_active_repo = last_year_commits[last_year_commits[specific_count] > max_commit_cnt * (max_mean_percent_per_month/100)].any()\n",
        "\n",
        "  if still_active_repo[specific_count]:\n",
        "    # repository not dead yet\n",
        "    continue\n",
        "  else:\n",
        "    # repository is dead\n",
        "    valid_repos.append(repo_id)"
      ],
      "metadata": {
        "colab": {
          "base_uri": "https://localhost:8080/"
        },
        "id": "_1O3uUg5NA4S",
        "outputId": "0bbb57e9-1d40-487a-c61e-5cee368d1040"
      },
      "execution_count": 15,
      "outputs": [
        {
          "output_type": "stream",
          "name": "stderr",
          "text": [
            "100%|██████████| 2127/2127 [01:09<00:00, 30.45it/s]\n"
          ]
        }
      ]
    },
    {
      "cell_type": "code",
      "source": [
        "# strip long tails from repos which are long inactive\n",
        "\n",
        "df_stripped_right_agregated = []\n",
        "for repo_id in tqdm(valid_repos):\n",
        "  df_project = df.loc[df.project_id == repo_id].copy()\n",
        "  out = df_project.groupby(pd.Grouper(key='created_at', freq='M')).count()[\"commit_id\"].reset_index().rename(columns={\"commit_id\":\"commit_count\"})\n",
        "  max_commit_cnt = out[specific_count].max()\n",
        "  out[f'mean_months'] = out.rolling(segment_size_months).mean()\n",
        "\n",
        "  idx_end = None\n",
        "  for idx,row in out[::-1].iterrows():\n",
        "    if row.mean_months > max_commit_cnt * (max_mean_percent_per_month/100) :\n",
        "      idx_end = idx\n",
        "      break\n",
        "  # this is last date which stays in dataset, older dates then this will be gone\n",
        "  last_date = out.iloc[idx_end].created_at\n",
        "\n",
        "  out = out.loc[out.created_at <= last_date]\n",
        "  out['project_id'] = [repo_id] * len(out)\n",
        "  df_stripped_right_agregated.append(out)\n",
        "\n",
        "  df_project = df_project.loc[df_project.created_at <= last_date]"
      ],
      "metadata": {
        "colab": {
          "base_uri": "https://localhost:8080/"
        },
        "id": "5rKSl1JpNA6h",
        "outputId": "7f6361a9-0155-4d62-848e-2757240a2411"
      },
      "execution_count": 16,
      "outputs": [
        {
          "output_type": "stream",
          "name": "stderr",
          "text": [
            "  7%|▋         | 25/382 [00:00<00:10, 34.08it/s]/usr/local/lib/python3.7/dist-packages/ipykernel_launcher.py:19: SettingWithCopyWarning: \n",
            "A value is trying to be set on a copy of a slice from a DataFrame.\n",
            "Try using .loc[row_indexer,col_indexer] = value instead\n",
            "\n",
            "See the caveats in the documentation: https://pandas.pydata.org/pandas-docs/stable/user_guide/indexing.html#returning-a-view-versus-a-copy\n",
            "100%|██████████| 382/382 [00:11<00:00, 31.90it/s]\n"
          ]
        }
      ]
    },
    {
      "cell_type": "code",
      "source": [
        "df_stripped_right_agregated = pd.concat(df_stripped_right_agregated)\n",
        "df_stripped_right_agregated.drop(columns=['mean_months'],inplace=True)"
      ],
      "metadata": {
        "id": "VnSHXo_GRftj"
      },
      "execution_count": 20,
      "outputs": []
    },
    {
      "cell_type": "markdown",
      "source": [
        "Here comes section where all of the data will be preprocessed and joined into one table."
      ],
      "metadata": {
        "id": "s9WTr_ytOsrh"
      }
    },
    {
      "cell_type": "code",
      "source": [
        "def clean_naming_and_date_in_df(data):\n",
        "  df = data.copy()\n",
        "  df.repo_id = df.repo_id.astype(int)\n",
        "\n",
        "  if \"repo_id\" in df.columns:\n",
        "    df.rename(columns={\"repo_id\":\"project_id\"},inplace=True)\n",
        "\n",
        "  df['created_at'] = df['created_at'].astype('str')\n",
        "  df['created_at'] = df.created_at.apply(lambda x: x.replace('UTC',''))\n",
        "  df.created_at = pd.to_datetime( df.created_at.to_list(), yearfirst = True, format=\"%Y-%m-%d %H:%M:%S\" )\n",
        "\n",
        "  return df\n",
        "\n",
        "\n",
        "def get_other_tables_agregated(df_commits_agregated, df_not_agregated,  data_descriptor: str):\n",
        "  df_stripped_right_agregated = []\n",
        "\n",
        "  specific_id = data_descriptor+'_id'\n",
        "  specific_count = data_descriptor + '_count'\n",
        "  for repo_id in tqdm(df_commits_agregated.project_id.unique()):\n",
        "    relevant_months = len(df_commits_agregated[df_commits_agregated.project_id == repo_id])\n",
        "    df_project = df_not_agregated.loc[df_not_agregated.project_id == repo_id].copy()\n",
        "    # agregate by months\n",
        "    out = df_project.groupby(pd.Grouper(key='created_at', freq='M')).count()[specific_id].reset_index().rename(columns={specific_id:specific_count})\n",
        "    out = out.iloc[:relevant_months]\n",
        "    out['project_id'] = [repo_id] * len(out)\n",
        "\n",
        "    df_stripped_right_agregated.append(out)\n",
        "\n",
        "  return pd.concat(df_stripped_right_agregated)\n",
        "\n",
        "def add_records_where_missing(df_commits_agregated, df_other_agregated, data_descriptor):\n",
        "\n",
        "  added_column = data_descriptor+\"_count\"\n",
        "\n",
        "  all_repos = df_commits_agregated.project_id.unique()\n",
        "  repos = df_other_agregated.project_id.unique()\n",
        "  missing_repos = set(all_repos).difference(set(repos))\n",
        "\n",
        "  data = []\n",
        "  for repo_id in missing_repos:\n",
        "    new_created_at = df_commits_agregated[df_commits_agregated.project_id == repo_id].created_at.to_list()\n",
        "    new_project_id = df_commits_agregated[df_commits_agregated.project_id == repo_id].project_id.to_list()\n",
        "    missing_atr = [0] * len(new_project_id)\n",
        "    data.append( pd.DataFrame({'created_at':new_created_at,'project_id': new_project_id, added_column: missing_atr  }) )\n",
        "\n",
        "  return pd.concat([df_other_agregated, pd.concat(data) ])\n"
      ],
      "metadata": {
        "id": "OXsR0BmLNA9I"
      },
      "execution_count": 21,
      "outputs": []
    },
    {
      "cell_type": "code",
      "source": [
        "path_to_file = './data'\n",
        "\n",
        "df_other = pd.read_csv(os.path.join(path_to_file,'issue_size_over_10000.csv'))\n",
        "df_issue_a = get_other_tables_agregated(df_stripped_right_agregated,clean_naming_and_date_in_df(df_other),'issue' )\n",
        "\n",
        "df_other = pd.read_csv(os.path.join(path_to_file,'watcher_size_over_10000.csv')) \n",
        "df_watcher_a = get_other_tables_agregated(df_stripped_right_agregated,clean_naming_and_date_in_df(df_other),'user' )"
      ],
      "metadata": {
        "colab": {
          "base_uri": "https://localhost:8080/"
        },
        "id": "Rr2qKTBjNA_m",
        "outputId": "7c8514eb-d448-498d-9c1a-d8d4d55fe5af"
      },
      "execution_count": 22,
      "outputs": [
        {
          "output_type": "stream",
          "name": "stderr",
          "text": [
            "100%|██████████| 382/382 [00:05<00:00, 70.74it/s]\n",
            "100%|██████████| 382/382 [00:05<00:00, 74.41it/s]\n"
          ]
        }
      ]
    },
    {
      "cell_type": "code",
      "source": [
        "\n",
        "df_issue_a = add_records_where_missing(df_stripped_right_agregated,df_issue_a,'issue')\n",
        "df_watcher_a = add_records_where_missing(df_stripped_right_agregated,df_watcher_a,'user')"
      ],
      "metadata": {
        "id": "LPptMzKuNBBk"
      },
      "execution_count": 23,
      "outputs": []
    },
    {
      "cell_type": "code",
      "source": [
        "df_all = df_stripped_right_agregated.merge(df_issue_a, how=\"left\", on=['project_id','created_at'])\n",
        "df_all = df_all.merge(df_watcher_a, how=\"left\", on=['project_id','created_at'])"
      ],
      "metadata": {
        "id": "_LLLfqy7NBEF"
      },
      "execution_count": 24,
      "outputs": []
    },
    {
      "cell_type": "code",
      "source": [
        "df_all.fillna(0, inplace = True)"
      ],
      "metadata": {
        "id": "H8G9Dj8gNBHJ"
      },
      "execution_count": 25,
      "outputs": []
    },
    {
      "cell_type": "code",
      "source": [
        "# store preprocessed dataset\n",
        "\n",
        "# df_all.to_csv(\"./data/data_for_training.csv\", index=False)\n",
        "\n"
      ],
      "metadata": {
        "id": "2mvDckAANBKw"
      },
      "execution_count": 28,
      "outputs": []
    }
  ]
}